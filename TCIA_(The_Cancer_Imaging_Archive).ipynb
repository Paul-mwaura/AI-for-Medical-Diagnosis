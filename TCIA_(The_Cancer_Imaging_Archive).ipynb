{
  "nbformat": 4,
  "nbformat_minor": 0,
  "metadata": {
    "colab": {
      "name": "TCIA (The Cancer Imaging Archive).ipynb",
      "provenance": [],
      "authorship_tag": "ABX9TyNgMro00+jgfGP8rAFyHlAB",
      "include_colab_link": true
    },
    "kernelspec": {
      "name": "python3",
      "display_name": "Python 3"
    },
    "language_info": {
      "name": "python"
    }
  },
  "cells": [
    {
      "cell_type": "markdown",
      "metadata": {
        "id": "view-in-github",
        "colab_type": "text"
      },
      "source": [
        "<a href=\"https://colab.research.google.com/github/Paul-mwaura/AI-for-Medical-Diagnosis/blob/master/TCIA_(The_Cancer_Imaging_Archive).ipynb\" target=\"_parent\"><img src=\"https://colab.research.google.com/assets/colab-badge.svg\" alt=\"Open In Colab\"/></a>"
      ]
    },
    {
      "cell_type": "markdown",
      "source": [
        "# TCIA (The Cancer Imaging Archive)"
      ],
      "metadata": {
        "id": "i5p58xp5KTHv"
      }
    },
    {
      "cell_type": "markdown",
      "source": [
        "## Download Client for Python\n",
        ">>\n",
        "This Python package uses the official TCIA REST API to enable downloads from www.cancerimagingarchive.net from within Python scripts and Jupyter Notebooks."
      ],
      "metadata": {
        "id": "pBqKVSCjKbJc"
      }
    },
    {
      "cell_type": "code",
      "execution_count": 1,
      "metadata": {
        "colab": {
          "base_uri": "https://localhost:8080/"
        },
        "id": "Mdm_LJSoJZSW",
        "outputId": "e7d32bf7-aea0-42a1-c277-163b5fc6eccb"
      },
      "outputs": [
        {
          "output_type": "stream",
          "name": "stdout",
          "text": [
            "Looking in indexes: https://pypi.org/simple, https://us-python.pkg.dev/colab-wheels/public/simple/\n",
            "Collecting tciaclient\n",
            "  Downloading tciaclient-0.0.3-py3-none-any.whl (8.6 kB)\n",
            "Requirement already satisfied: pip in /usr/local/lib/python3.7/dist-packages (from tciaclient) (21.1.3)\n",
            "Requirement already satisfied: packaging in /usr/local/lib/python3.7/dist-packages (from tciaclient) (21.3)\n",
            "Requirement already satisfied: pyparsing!=3.0.5,>=2.0.2 in /usr/local/lib/python3.7/dist-packages (from packaging->tciaclient) (3.0.9)\n",
            "Installing collected packages: tciaclient\n",
            "Successfully installed tciaclient-0.0.3\n"
          ]
        }
      ],
      "source": [
        "!pip install tciaclient"
      ]
    },
    {
      "cell_type": "markdown",
      "source": [
        "### Step 1: Import the TCIAClient from the tciaclient.core package."
      ],
      "metadata": {
        "id": "uaHeEacRJghE"
      }
    },
    {
      "cell_type": "code",
      "source": [
        "from tciaclient.core import TCIAClient"
      ],
      "metadata": {
        "id": "nQ9bJd9hJah_"
      },
      "execution_count": 2,
      "outputs": []
    },
    {
      "cell_type": "markdown",
      "source": [
        "### Step 2: Create an instance of the TCIAClient."
      ],
      "metadata": {
        "id": "NQqv1IGCJj2a"
      }
    },
    {
      "cell_type": "code",
      "source": [
        "tc = TCIAClient()"
      ],
      "metadata": {
        "id": "k-O-2XskJcTE"
      },
      "execution_count": 3,
      "outputs": []
    },
    {
      "cell_type": "markdown",
      "source": [
        "### Step 3: Specify the collection you want to download (find the name on \n",
        "https://wiki.cancerimagingarchive.net/display/Public/Collections)."
      ],
      "metadata": {
        "id": "xUsXOLJCJm57"
      }
    },
    {
      "cell_type": "code",
      "source": [
        "collection_name = \"NSCLC-Radiomics\""
      ],
      "metadata": {
        "id": "gTUVILgsJePf"
      },
      "execution_count": 4,
      "outputs": []
    },
    {
      "cell_type": "markdown",
      "source": [
        "### Step 4: Get the series information of the chosen collection. In this example, we specify that we only want series that are CT scans."
      ],
      "metadata": {
        "id": "6MumD5MHJ45z"
      }
    },
    {
      "cell_type": "code",
      "source": [
        "series = tc.get_series(collection=collection_name, modality=\"CT\")"
      ],
      "metadata": {
        "id": "qc0xpqxeJryM"
      },
      "execution_count": 5,
      "outputs": []
    },
    {
      "cell_type": "markdown",
      "source": [
        "### Step 5: Download the dataset to the specified path."
      ],
      "metadata": {
        "id": "xHgP8lXuJ_Ub"
      }
    },
    {
      "cell_type": "code",
      "source": [
        "download_path = \"./tcia-downloads\"\n",
        "for i, s in enumerate(series):\n",
        "    print(i)\n",
        "    tc.get_image(seriesInstanceUid = s[\"SeriesInstanceUID\"],\n",
        "        downloadPath = download_path, zipFileName = str(i).zfill(3)+\"-\"+collection_name+\".zip\")"
      ],
      "metadata": {
        "colab": {
          "base_uri": "https://localhost:8080/"
        },
        "id": "KcYmanfMJ7-a",
        "outputId": "d086cf56-53da-4225-afa0-e04422bca057"
      },
      "execution_count": null,
      "outputs": [
        {
          "output_type": "stream",
          "name": "stdout",
          "text": [
            "0\n",
            "1\n",
            "2\n",
            "3\n",
            "4\n",
            "5\n",
            "6\n",
            "7\n",
            "8\n",
            "9\n",
            "10\n",
            "11\n",
            "12\n",
            "13\n",
            "14\n",
            "15\n",
            "16\n"
          ]
        }
      ]
    }
  ]
}